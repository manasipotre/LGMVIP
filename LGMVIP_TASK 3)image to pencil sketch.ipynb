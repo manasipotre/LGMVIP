{
 "cells": [
  {
   "cell_type": "markdown",
   "id": "30fb1381",
   "metadata": {},
   "source": [
    "# Submitted by- Manasi Potre LGMVIP_Task_ Image to Pencil Sketch"
   ]
  },
  {
   "cell_type": "code",
   "execution_count": 1,
   "id": "8cfe55b3",
   "metadata": {
    "scrolled": true
   },
   "outputs": [
    {
     "name": "stdout",
     "output_type": "stream",
     "text": [
      "Requirement already satisfied: opencv-python in c:\\users\\admin1\\anaconda3\\lib\\site-packages (4.5.4.58)\n",
      "Requirement already satisfied: numpy>=1.17.3 in c:\\users\\admin1\\anaconda3\\lib\\site-packages (from opencv-python) (1.20.1)\n",
      "Note: you may need to restart the kernel to use updated packages.\n"
     ]
    }
   ],
   "source": [
    "pip install opencv-python"
   ]
  },
  {
   "cell_type": "code",
   "execution_count": 2,
   "id": "2a24e773",
   "metadata": {},
   "outputs": [],
   "source": [
    "import cv2"
   ]
  },
  {
   "cell_type": "code",
   "execution_count": 3,
   "id": "cad35224",
   "metadata": {},
   "outputs": [],
   "source": [
    "img = cv2.imread(\"sun.jpeg\")"
   ]
  },
  {
   "cell_type": "code",
   "execution_count": 4,
   "id": "311921cd",
   "metadata": {},
   "outputs": [],
   "source": [
    "gray_image = cv2.cvtColor(img, cv2.COLOR_BGR2GRAY)"
   ]
  },
  {
   "cell_type": "code",
   "execution_count": 5,
   "id": "711b09f4",
   "metadata": {},
   "outputs": [],
   "source": [
    "inverted_gray_image = 255 - gray_image"
   ]
  },
  {
   "cell_type": "code",
   "execution_count": 6,
   "id": "1ce13eb8",
   "metadata": {},
   "outputs": [],
   "source": [
    "blurred_image = cv2.GaussianBlur(inverted_gray_image, (21, 21), 0)"
   ]
  },
  {
   "cell_type": "code",
   "execution_count": 7,
   "id": "4bd28e1c",
   "metadata": {},
   "outputs": [],
   "source": [
    "inverted_blurred_image = 255 - blurred_image"
   ]
  },
  {
   "cell_type": "code",
   "execution_count": 8,
   "id": "5bd1f4f9",
   "metadata": {},
   "outputs": [],
   "source": [
    "pencil_sketch_image = cv2.divide(gray_image, inverted_blurred_image, scale = 256.0)"
   ]
  },
  {
   "cell_type": "code",
   "execution_count": 9,
   "id": "7eec1b6e",
   "metadata": {},
   "outputs": [],
   "source": [
    "cv2.imshow('Original Image', img)"
   ]
  },
  {
   "cell_type": "code",
   "execution_count": 10,
   "id": "f19886d4",
   "metadata": {},
   "outputs": [],
   "source": [
    "cv2.imshow('New Image', pencil_sketch_image)"
   ]
  },
  {
   "cell_type": "code",
   "execution_count": null,
   "id": "36a9de3d",
   "metadata": {},
   "outputs": [],
   "source": [
    "cv2.waitKey(0)"
   ]
  },
  {
   "cell_type": "code",
   "execution_count": null,
   "id": "0d4a14e2",
   "metadata": {},
   "outputs": [],
   "source": []
  }
 ],
 "metadata": {
  "kernelspec": {
   "display_name": "Python 3",
   "language": "python",
   "name": "python3"
  },
  "language_info": {
   "codemirror_mode": {
    "name": "ipython",
    "version": 3
   },
   "file_extension": ".py",
   "mimetype": "text/x-python",
   "name": "python",
   "nbconvert_exporter": "python",
   "pygments_lexer": "ipython3",
   "version": "3.8.8"
  }
 },
 "nbformat": 4,
 "nbformat_minor": 5
}
